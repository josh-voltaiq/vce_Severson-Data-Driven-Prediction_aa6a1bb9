{
 "cells": [
  {
   "cell_type": "code",
   "execution_count": null,
   "id": "c8ab1935",
   "metadata": {},
   "outputs": [],
   "source": [
    "import voltaiq_studio as vs"
   ]
  }
 ],
 "metadata": {
  "kernelspec": {
   "display_name": "Python 3 (ipykernel)",
   "language": "python",
   "name": "python3"
  }
 },
 "nbformat": 4,
 "nbformat_minor": 5
}
